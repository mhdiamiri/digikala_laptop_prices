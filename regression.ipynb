{
 "metadata": {
  "language_info": {
   "codemirror_mode": {
    "name": "ipython",
    "version": 3
   },
   "file_extension": ".py",
   "mimetype": "text/x-python",
   "name": "python",
   "nbconvert_exporter": "python",
   "pygments_lexer": "ipython3",
   "version": "3.8.3"
  },
  "orig_nbformat": 2,
  "kernelspec": {
   "name": "python383jvsc74a57bd097bc2c7c187403e015fbc9337e5c0a175db10957dce6aa4ee71587c6f450d1fd",
   "display_name": "Python 3.8.3 64-bit ('base': conda)"
  },
  "metadata": {
   "interpreter": {
    "hash": "97bc2c7c187403e015fbc9337e5c0a175db10957dce6aa4ee71587c6f450d1fd"
   }
  }
 },
 "nbformat": 4,
 "nbformat_minor": 2,
 "cells": [
  {
   "cell_type": "code",
   "execution_count": 29,
   "metadata": {},
   "outputs": [],
   "source": [
    "import pandas as pd \n",
    "df = pd.read_csv('clean.csv',index_col='product_id')"
   ]
  },
  {
   "cell_type": "code",
   "execution_count": 30,
   "metadata": {},
   "outputs": [],
   "source": [
    "del df['index']\n"
   ]
  },
  {
   "cell_type": "code",
   "execution_count": 31,
   "metadata": {},
   "outputs": [
    {
     "output_type": "execute_result",
     "data": {
      "text/plain": [
       "             brand  weight  cpu_cache  freq  freq_bound  gpu  gpu_size   HDD  \\\n",
       "product_id                                                                     \n",
       "dkp-3404802   0.70   1.642          8   1.3         3.9  0.8      6000     0   \n",
       "dkp-3404485   0.70   1.534          8   1.3         3.9  0.8      4000     0   \n",
       "dkp-3154329   0.70   1.642          8   1.3         3.9  0.8      6000     0   \n",
       "dkp-3154032   0.70   1.642          8   1.3         3.9  0.8      6000     0   \n",
       "dkp-5020231   0.85   2.560         12   2.6         5.0  0.8      8000     0   \n",
       "...            ...     ...        ...   ...         ...  ...       ...   ...   \n",
       "dkp-1788325   0.77   2.200          4   1.1         2.6  0.4         0  1000   \n",
       "dkp-4877214   0.88   1.900          4   1.1         2.8  0.4         0  1000   \n",
       "dkp-4540657   0.88   1.900          4   1.1         2.8  0.4         0  1000   \n",
       "dkp-2047531   0.88   1.900          4   1.1         2.6  0.4         0  1000   \n",
       "dkp-1946433   0.77   1.850          4   1.0         2.6  0.4         0  1000   \n",
       "\n",
       "              SSD  screen_size  screen_acc  ram  ram_kind      price  \\\n",
       "product_id                                                             \n",
       "dkp-3404802  1000         15.0        0.32   32      0.25  106409000   \n",
       "dkp-3404485  1000         13.5        0.30   32      0.25   93699000   \n",
       "dkp-3154329   512         15.0        0.32   32      0.25   86900000   \n",
       "dkp-3154032   256         15.0        0.32   16      0.25   76299000   \n",
       "dkp-5020231  1000         15.6        0.20   32      0.25   75900000   \n",
       "...           ...          ...         ...  ...       ...        ...   \n",
       "dkp-1788325     0         15.6        0.10    8      0.25   10000000   \n",
       "dkp-4877214     0         15.6        0.10    4      0.25    9100000   \n",
       "dkp-4540657     0         15.6        0.20    4      0.25    9000000   \n",
       "dkp-2047531     0         15.6        0.20    4      0.25    8990000   \n",
       "dkp-1946433     0         15.6        0.10    8      0.25    8990000   \n",
       "\n",
       "             cpu_bench  \n",
       "product_id              \n",
       "dkp-3404802       8850  \n",
       "dkp-3404485       8850  \n",
       "dkp-3154329       8850  \n",
       "dkp-3154032       8850  \n",
       "dkp-5020231      12575  \n",
       "...                ...  \n",
       "dkp-1788325       1602  \n",
       "dkp-4877214       1622  \n",
       "dkp-4540657       1622  \n",
       "dkp-2047531       1602  \n",
       "dkp-1946433       1602  \n",
       "\n",
       "[313 rows x 15 columns]"
      ],
      "text/html": "<div>\n<style scoped>\n    .dataframe tbody tr th:only-of-type {\n        vertical-align: middle;\n    }\n\n    .dataframe tbody tr th {\n        vertical-align: top;\n    }\n\n    .dataframe thead th {\n        text-align: right;\n    }\n</style>\n<table border=\"1\" class=\"dataframe\">\n  <thead>\n    <tr style=\"text-align: right;\">\n      <th></th>\n      <th>brand</th>\n      <th>weight</th>\n      <th>cpu_cache</th>\n      <th>freq</th>\n      <th>freq_bound</th>\n      <th>gpu</th>\n      <th>gpu_size</th>\n      <th>HDD</th>\n      <th>SSD</th>\n      <th>screen_size</th>\n      <th>screen_acc</th>\n      <th>ram</th>\n      <th>ram_kind</th>\n      <th>price</th>\n      <th>cpu_bench</th>\n    </tr>\n    <tr>\n      <th>product_id</th>\n      <th></th>\n      <th></th>\n      <th></th>\n      <th></th>\n      <th></th>\n      <th></th>\n      <th></th>\n      <th></th>\n      <th></th>\n      <th></th>\n      <th></th>\n      <th></th>\n      <th></th>\n      <th></th>\n      <th></th>\n    </tr>\n  </thead>\n  <tbody>\n    <tr>\n      <th>dkp-3404802</th>\n      <td>0.70</td>\n      <td>1.642</td>\n      <td>8</td>\n      <td>1.3</td>\n      <td>3.9</td>\n      <td>0.8</td>\n      <td>6000</td>\n      <td>0</td>\n      <td>1000</td>\n      <td>15.0</td>\n      <td>0.32</td>\n      <td>32</td>\n      <td>0.25</td>\n      <td>106409000</td>\n      <td>8850</td>\n    </tr>\n    <tr>\n      <th>dkp-3404485</th>\n      <td>0.70</td>\n      <td>1.534</td>\n      <td>8</td>\n      <td>1.3</td>\n      <td>3.9</td>\n      <td>0.8</td>\n      <td>4000</td>\n      <td>0</td>\n      <td>1000</td>\n      <td>13.5</td>\n      <td>0.30</td>\n      <td>32</td>\n      <td>0.25</td>\n      <td>93699000</td>\n      <td>8850</td>\n    </tr>\n    <tr>\n      <th>dkp-3154329</th>\n      <td>0.70</td>\n      <td>1.642</td>\n      <td>8</td>\n      <td>1.3</td>\n      <td>3.9</td>\n      <td>0.8</td>\n      <td>6000</td>\n      <td>0</td>\n      <td>512</td>\n      <td>15.0</td>\n      <td>0.32</td>\n      <td>32</td>\n      <td>0.25</td>\n      <td>86900000</td>\n      <td>8850</td>\n    </tr>\n    <tr>\n      <th>dkp-3154032</th>\n      <td>0.70</td>\n      <td>1.642</td>\n      <td>8</td>\n      <td>1.3</td>\n      <td>3.9</td>\n      <td>0.8</td>\n      <td>6000</td>\n      <td>0</td>\n      <td>256</td>\n      <td>15.0</td>\n      <td>0.32</td>\n      <td>16</td>\n      <td>0.25</td>\n      <td>76299000</td>\n      <td>8850</td>\n    </tr>\n    <tr>\n      <th>dkp-5020231</th>\n      <td>0.85</td>\n      <td>2.560</td>\n      <td>12</td>\n      <td>2.6</td>\n      <td>5.0</td>\n      <td>0.8</td>\n      <td>8000</td>\n      <td>0</td>\n      <td>1000</td>\n      <td>15.6</td>\n      <td>0.20</td>\n      <td>32</td>\n      <td>0.25</td>\n      <td>75900000</td>\n      <td>12575</td>\n    </tr>\n    <tr>\n      <th>...</th>\n      <td>...</td>\n      <td>...</td>\n      <td>...</td>\n      <td>...</td>\n      <td>...</td>\n      <td>...</td>\n      <td>...</td>\n      <td>...</td>\n      <td>...</td>\n      <td>...</td>\n      <td>...</td>\n      <td>...</td>\n      <td>...</td>\n      <td>...</td>\n      <td>...</td>\n    </tr>\n    <tr>\n      <th>dkp-1788325</th>\n      <td>0.77</td>\n      <td>2.200</td>\n      <td>4</td>\n      <td>1.1</td>\n      <td>2.6</td>\n      <td>0.4</td>\n      <td>0</td>\n      <td>1000</td>\n      <td>0</td>\n      <td>15.6</td>\n      <td>0.10</td>\n      <td>8</td>\n      <td>0.25</td>\n      <td>10000000</td>\n      <td>1602</td>\n    </tr>\n    <tr>\n      <th>dkp-4877214</th>\n      <td>0.88</td>\n      <td>1.900</td>\n      <td>4</td>\n      <td>1.1</td>\n      <td>2.8</td>\n      <td>0.4</td>\n      <td>0</td>\n      <td>1000</td>\n      <td>0</td>\n      <td>15.6</td>\n      <td>0.10</td>\n      <td>4</td>\n      <td>0.25</td>\n      <td>9100000</td>\n      <td>1622</td>\n    </tr>\n    <tr>\n      <th>dkp-4540657</th>\n      <td>0.88</td>\n      <td>1.900</td>\n      <td>4</td>\n      <td>1.1</td>\n      <td>2.8</td>\n      <td>0.4</td>\n      <td>0</td>\n      <td>1000</td>\n      <td>0</td>\n      <td>15.6</td>\n      <td>0.20</td>\n      <td>4</td>\n      <td>0.25</td>\n      <td>9000000</td>\n      <td>1622</td>\n    </tr>\n    <tr>\n      <th>dkp-2047531</th>\n      <td>0.88</td>\n      <td>1.900</td>\n      <td>4</td>\n      <td>1.1</td>\n      <td>2.6</td>\n      <td>0.4</td>\n      <td>0</td>\n      <td>1000</td>\n      <td>0</td>\n      <td>15.6</td>\n      <td>0.20</td>\n      <td>4</td>\n      <td>0.25</td>\n      <td>8990000</td>\n      <td>1602</td>\n    </tr>\n    <tr>\n      <th>dkp-1946433</th>\n      <td>0.77</td>\n      <td>1.850</td>\n      <td>4</td>\n      <td>1.0</td>\n      <td>2.6</td>\n      <td>0.4</td>\n      <td>0</td>\n      <td>1000</td>\n      <td>0</td>\n      <td>15.6</td>\n      <td>0.10</td>\n      <td>8</td>\n      <td>0.25</td>\n      <td>8990000</td>\n      <td>1602</td>\n    </tr>\n  </tbody>\n</table>\n<p>313 rows × 15 columns</p>\n</div>"
     },
     "metadata": {},
     "execution_count": 31
    }
   ],
   "source": [
    "df"
   ]
  },
  {
   "cell_type": "code",
   "execution_count": 32,
   "metadata": {},
   "outputs": [],
   "source": [
    "from sklearn.linear_model import LinearRegression\n",
    "from sklearn.model_selection import train_test_split\n",
    "lg = LinearRegression()\n",
    "y = df['price']\n",
    "X = df.loc[:, df.columns!='price'] \n",
    "\n",
    "X_train, X_test, y_train, y_test = train_test_split(X, y, test_size=0.1)\n",
    "\n",
    "model = lg.fit(X_train, y_train)\n"
   ]
  },
  {
   "cell_type": "code",
   "execution_count": 39,
   "metadata": {},
   "outputs": [
    {
     "output_type": "stream",
     "name": "stdout",
     "text": [
      "predict<<actual\n3297 << 3230\n1705 << 1299\n3533 << 2899\n2423 << 2150\n2688 << 2170\n2005 << 4000\n3994 << 3699\n4286 << 5998\n5072 << 4119\n1201 << 1575\n1034 << 1571\n4606 << 3587\n3194 << 3150\n956 << 1590\n2981 << 2260\n5030 << 4222\n3627 << 3790\n1642 << 1620\n3810 << 3276\n4190 << 4749\n2015 << 1510\n4201 << 3398\n2235 << 2024\n2249 << 2415\n4194 << 4520\n1130 << 2010\n5150 << 4010\n3091 << 2985\n1895 << 1699\n2786 << 2380\n2780 << 1725\n1644 << 1100\n"
     ]
    }
   ],
   "source": [
    "from sklearn.metrics import mean_squared_error\n",
    "print('predict<<actual')\n",
    "y_predict = model.predict(X_test)\n",
    "for (yp, y) in zip(y_predict, y_test):\n",
    "    print(str(int(yp/10000))+' << '+str(int(y/10000)))"
   ]
  },
  {
   "cell_type": "code",
   "execution_count": null,
   "metadata": {},
   "outputs": [],
   "source": []
  }
 ]
}