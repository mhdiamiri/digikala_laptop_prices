{
 "metadata": {
  "language_info": {
   "codemirror_mode": {
    "name": "ipython",
    "version": 3
   },
   "file_extension": ".py",
   "mimetype": "text/x-python",
   "name": "python",
   "nbconvert_exporter": "python",
   "pygments_lexer": "ipython3",
   "version": "3.8.5"
  },
  "orig_nbformat": 2,
  "kernelspec": {
   "name": "python385jvsc74a57bd0916dbcbb3f70747c44a77c7bcd40155683ae19c65e1c03b4aa3499c5328201f1",
   "display_name": "Python 3.8.5 64-bit"
  },
  "metadata": {
   "interpreter": {
    "hash": "31f2aee4e71d21fbe5cf8b01ff0e069b9275f58929596ceb00d14d90e3e16cd6"
   }
  }
 },
 "nbformat": 4,
 "nbformat_minor": 2,
 "cells": [
  {
   "cell_type": "code",
   "execution_count": 26,
   "metadata": {},
   "outputs": [],
   "source": [
    "import requests\n",
    "import re\n",
    "import sqlite3\n",
    "from bs4 import BeautifulSoup\n",
    "data = sqlite3.connect('cpu_benchmark.db')\n",
    "\n",
    "try: \n",
    "    data.execute(\"\"\"CREATE TABLE cpu(\n",
    "        cpu TEXT,\n",
    "        freq TEXT,\n",
    "        benchmark TEXT\n",
    ")\"\"\")\n",
    "    data.commit()\n",
    "except: pass"
   ]
  },
  {
   "cell_type": "code",
   "execution_count": 27,
   "metadata": {},
   "outputs": [],
   "source": [
    "page = requests.get('https://www.cpubenchmark.net/laptop.html')\n",
    "soup = BeautifulSoup(page.text, 'html.parser')\n",
    "prd_list = soup.find_all('span',attrs = {'class' : ['prdname']})\n",
    "benchmark_list = soup.find_all('span',attrs = {'class' : ['count']})\n"
   ]
  },
  {
   "cell_type": "code",
   "execution_count": 28,
   "metadata": {
    "tags": []
   },
   "outputs": [],
   "source": [
    "for (prd, bench) in zip(prd_list, benchmark_list):\n",
    "    pr = prd.text.split(' @ ')\n",
    "    cpu = pr[0].replace('-',' ')\n",
    "    try:\n",
    "        freq = pr[1]\n",
    "        freq = freq.replace('GHz','')\n",
    "    except: freq = ''\n",
    "    bch = bench.text.replace(',','')\n",
    "    data.execute(\"INSERT INTO cpu VALUES ('%s', '%s' ,'%s')\"%(cpu,freq,bch))\n",
    "    if prd.text == 'AMD G-T40R':\n",
    "        break\n",
    "data.commit()"
   ]
  },
  {
   "cell_type": "code",
   "execution_count": null,
   "metadata": {},
   "outputs": [],
   "source": []
  }
 ]
}