{
 "metadata": {
  "language_info": {
   "codemirror_mode": {
    "name": "ipython",
    "version": 3
   },
   "file_extension": ".py",
   "mimetype": "text/x-python",
   "name": "python",
   "nbconvert_exporter": "python",
   "pygments_lexer": "ipython3",
   "version": "3.8.3"
  },
  "orig_nbformat": 2,
  "kernelspec": {
   "name": "python383jvsc74a57bd097bc2c7c187403e015fbc9337e5c0a175db10957dce6aa4ee71587c6f450d1fd",
   "display_name": "Python 3.8.3 64-bit ('base': conda)"
  },
  "metadata": {
   "interpreter": {
    "hash": "97bc2c7c187403e015fbc9337e5c0a175db10957dce6aa4ee71587c6f450d1fd"
   }
  }
 },
 "nbformat": 4,
 "nbformat_minor": 2,
 "cells": [
  {
   "cell_type": "code",
   "execution_count": 1,
   "metadata": {},
   "outputs": [],
   "source": [
    "import numpy as np \n",
    "import pandas as pd \n",
    "import re"
   ]
  },
  {
   "cell_type": "code",
   "execution_count": 2,
   "metadata": {},
   "outputs": [],
   "source": [
    "df = pd.read_csv('final.csv')"
   ]
  },
  {
   "cell_type": "code",
   "execution_count": 3,
   "metadata": {},
   "outputs": [],
   "source": [
    "def convert_to_float(l):\n",
    "    for i in range(len(l)):\n",
    "        l[i] = float(l[i])\n",
    "    return l"
   ]
  },
  {
   "cell_type": "code",
   "execution_count": 4,
   "metadata": {},
   "outputs": [],
   "source": [
    "for (i, freq, freq_bound) in zip(range(len(df)), df.freq, df.freq_bound):\n",
    "    arr = re.findall(r'[0-9,.]+',freq + '_'+freq_bound)\n",
    "    arr = convert_to_float(arr)\n",
    "    freq = min(arr)\n",
    "    freq_bound = max(arr)\n",
    "    df.loc[i, 'freq'] = freq\n",
    "    df.loc[i, 'freq_bound'] = freq_bound\n"
   ]
  },
  {
   "cell_type": "code",
   "execution_count": 5,
   "metadata": {},
   "outputs": [],
   "source": [
    "# https://www.cpubenchmark.net/laptop.html"
   ]
  },
  {
   "cell_type": "code",
   "execution_count": 6,
   "metadata": {},
   "outputs": [
    {
     "output_type": "execute_result",
     "data": {
      "text/plain": [
       "      product_id      brand  weight    cpu cpu_series cpu_model  cpu_cache  \\\n",
       "0    dkp-3404802  microsoft   1.642  Intel     Corei7    1065G7    8000000   \n",
       "1    dkp-3404485  microsoft   1.534  Intel     Corei7    1065G7    8000000   \n",
       "2    dkp-3154329  microsoft   1.642  Intel     Corei7    1065G7    8000000   \n",
       "3    dkp-3154032  microsoft   1.642  Intel     Corei7    1065G7    8000000   \n",
       "4    dkp-5020231       dell   2.560  Intel     Corei7    10750H   12000000   \n",
       "..           ...        ...     ...    ...        ...       ...        ...   \n",
       "308  dkp-1788325     lenovo   2.200  Intel    Celeron     N4000    4000000   \n",
       "309  dkp-4877214       asus   1.900  Intel    Celeron     N4020    4000000   \n",
       "310  dkp-4540657       asus   1.900  Intel    Celeron     N4020    4000000   \n",
       "311  dkp-2047531       asus   1.900  Intel    Celeron     N4000    4000000   \n",
       "312  dkp-1946433     lenovo   1.850  Intel    Celeron     N4000    4000000   \n",
       "\n",
       "    freq freq_bound     gpu  ... port_serial  usb3  usb2  usb4  usbc battery  \\\n",
       "0    1.3        3.9  NVIDIA  ...           0     2     0     0     1       0   \n",
       "1    1.3        3.9  NVIDIA  ...           0     2     0     0     1       0   \n",
       "2    1.3        3.9  NVIDIA  ...           0     2     0     0     1       0   \n",
       "3    1.3        3.9  NVIDIA  ...           0     2     0     0     1       0   \n",
       "4    2.6        5.0  NVIDIA  ...           0     3     0     0     1       0   \n",
       "..   ...        ...     ...  ...         ...   ...   ...   ...   ...     ...   \n",
       "308  1.1        2.6   Intel  ...           0     1     1     0     0       0   \n",
       "309  1.1        2.8   Intel  ...           0     0     2     0     0       0   \n",
       "310  1.1        2.8   Intel  ...           0     1     2     0     0       0   \n",
       "311  1.1        2.6   Intel  ...           0     1     2     0     0       0   \n",
       "312  1.0        2.6   Intel  ...           0     2     0     0     0       0   \n",
       "\n",
       "                     os          ram  ram_kind      price  \n",
       "0    MicrosoftWindows10  32000000000      DDR4  106409000  \n",
       "1    MicrosoftWindows10  32000000000      DDR4   93699000  \n",
       "2    MicrosoftWindows10  32000000000      DDR4   86900000  \n",
       "3    MicrosoftWindows10  16000000000      DDR4   76299000  \n",
       "4    MicrosoftWindows10  32000000000      DDR4   75900000  \n",
       "..                  ...          ...       ...        ...  \n",
       "308                   0   8000000000      DDR4   10000000  \n",
       "309                   0   4000000000      DDR4    9100000  \n",
       "310                   0   4000000000      DDR4    9000000  \n",
       "311                   0   4000000000      DDR4    8990000  \n",
       "312                   0   8000000000      DDR4    8990000  \n",
       "\n",
       "[313 rows x 29 columns]"
      ],
      "text/html": "<div>\n<style scoped>\n    .dataframe tbody tr th:only-of-type {\n        vertical-align: middle;\n    }\n\n    .dataframe tbody tr th {\n        vertical-align: top;\n    }\n\n    .dataframe thead th {\n        text-align: right;\n    }\n</style>\n<table border=\"1\" class=\"dataframe\">\n  <thead>\n    <tr style=\"text-align: right;\">\n      <th></th>\n      <th>product_id</th>\n      <th>brand</th>\n      <th>weight</th>\n      <th>cpu</th>\n      <th>cpu_series</th>\n      <th>cpu_model</th>\n      <th>cpu_cache</th>\n      <th>freq</th>\n      <th>freq_bound</th>\n      <th>gpu</th>\n      <th>...</th>\n      <th>port_serial</th>\n      <th>usb3</th>\n      <th>usb2</th>\n      <th>usb4</th>\n      <th>usbc</th>\n      <th>battery</th>\n      <th>os</th>\n      <th>ram</th>\n      <th>ram_kind</th>\n      <th>price</th>\n    </tr>\n  </thead>\n  <tbody>\n    <tr>\n      <th>0</th>\n      <td>dkp-3404802</td>\n      <td>microsoft</td>\n      <td>1.642</td>\n      <td>Intel</td>\n      <td>Corei7</td>\n      <td>1065G7</td>\n      <td>8000000</td>\n      <td>1.3</td>\n      <td>3.9</td>\n      <td>NVIDIA</td>\n      <td>...</td>\n      <td>0</td>\n      <td>2</td>\n      <td>0</td>\n      <td>0</td>\n      <td>1</td>\n      <td>0</td>\n      <td>MicrosoftWindows10</td>\n      <td>32000000000</td>\n      <td>DDR4</td>\n      <td>106409000</td>\n    </tr>\n    <tr>\n      <th>1</th>\n      <td>dkp-3404485</td>\n      <td>microsoft</td>\n      <td>1.534</td>\n      <td>Intel</td>\n      <td>Corei7</td>\n      <td>1065G7</td>\n      <td>8000000</td>\n      <td>1.3</td>\n      <td>3.9</td>\n      <td>NVIDIA</td>\n      <td>...</td>\n      <td>0</td>\n      <td>2</td>\n      <td>0</td>\n      <td>0</td>\n      <td>1</td>\n      <td>0</td>\n      <td>MicrosoftWindows10</td>\n      <td>32000000000</td>\n      <td>DDR4</td>\n      <td>93699000</td>\n    </tr>\n    <tr>\n      <th>2</th>\n      <td>dkp-3154329</td>\n      <td>microsoft</td>\n      <td>1.642</td>\n      <td>Intel</td>\n      <td>Corei7</td>\n      <td>1065G7</td>\n      <td>8000000</td>\n      <td>1.3</td>\n      <td>3.9</td>\n      <td>NVIDIA</td>\n      <td>...</td>\n      <td>0</td>\n      <td>2</td>\n      <td>0</td>\n      <td>0</td>\n      <td>1</td>\n      <td>0</td>\n      <td>MicrosoftWindows10</td>\n      <td>32000000000</td>\n      <td>DDR4</td>\n      <td>86900000</td>\n    </tr>\n    <tr>\n      <th>3</th>\n      <td>dkp-3154032</td>\n      <td>microsoft</td>\n      <td>1.642</td>\n      <td>Intel</td>\n      <td>Corei7</td>\n      <td>1065G7</td>\n      <td>8000000</td>\n      <td>1.3</td>\n      <td>3.9</td>\n      <td>NVIDIA</td>\n      <td>...</td>\n      <td>0</td>\n      <td>2</td>\n      <td>0</td>\n      <td>0</td>\n      <td>1</td>\n      <td>0</td>\n      <td>MicrosoftWindows10</td>\n      <td>16000000000</td>\n      <td>DDR4</td>\n      <td>76299000</td>\n    </tr>\n    <tr>\n      <th>4</th>\n      <td>dkp-5020231</td>\n      <td>dell</td>\n      <td>2.560</td>\n      <td>Intel</td>\n      <td>Corei7</td>\n      <td>10750H</td>\n      <td>12000000</td>\n      <td>2.6</td>\n      <td>5.0</td>\n      <td>NVIDIA</td>\n      <td>...</td>\n      <td>0</td>\n      <td>3</td>\n      <td>0</td>\n      <td>0</td>\n      <td>1</td>\n      <td>0</td>\n      <td>MicrosoftWindows10</td>\n      <td>32000000000</td>\n      <td>DDR4</td>\n      <td>75900000</td>\n    </tr>\n    <tr>\n      <th>...</th>\n      <td>...</td>\n      <td>...</td>\n      <td>...</td>\n      <td>...</td>\n      <td>...</td>\n      <td>...</td>\n      <td>...</td>\n      <td>...</td>\n      <td>...</td>\n      <td>...</td>\n      <td>...</td>\n      <td>...</td>\n      <td>...</td>\n      <td>...</td>\n      <td>...</td>\n      <td>...</td>\n      <td>...</td>\n      <td>...</td>\n      <td>...</td>\n      <td>...</td>\n      <td>...</td>\n    </tr>\n    <tr>\n      <th>308</th>\n      <td>dkp-1788325</td>\n      <td>lenovo</td>\n      <td>2.200</td>\n      <td>Intel</td>\n      <td>Celeron</td>\n      <td>N4000</td>\n      <td>4000000</td>\n      <td>1.1</td>\n      <td>2.6</td>\n      <td>Intel</td>\n      <td>...</td>\n      <td>0</td>\n      <td>1</td>\n      <td>1</td>\n      <td>0</td>\n      <td>0</td>\n      <td>0</td>\n      <td>0</td>\n      <td>8000000000</td>\n      <td>DDR4</td>\n      <td>10000000</td>\n    </tr>\n    <tr>\n      <th>309</th>\n      <td>dkp-4877214</td>\n      <td>asus</td>\n      <td>1.900</td>\n      <td>Intel</td>\n      <td>Celeron</td>\n      <td>N4020</td>\n      <td>4000000</td>\n      <td>1.1</td>\n      <td>2.8</td>\n      <td>Intel</td>\n      <td>...</td>\n      <td>0</td>\n      <td>0</td>\n      <td>2</td>\n      <td>0</td>\n      <td>0</td>\n      <td>0</td>\n      <td>0</td>\n      <td>4000000000</td>\n      <td>DDR4</td>\n      <td>9100000</td>\n    </tr>\n    <tr>\n      <th>310</th>\n      <td>dkp-4540657</td>\n      <td>asus</td>\n      <td>1.900</td>\n      <td>Intel</td>\n      <td>Celeron</td>\n      <td>N4020</td>\n      <td>4000000</td>\n      <td>1.1</td>\n      <td>2.8</td>\n      <td>Intel</td>\n      <td>...</td>\n      <td>0</td>\n      <td>1</td>\n      <td>2</td>\n      <td>0</td>\n      <td>0</td>\n      <td>0</td>\n      <td>0</td>\n      <td>4000000000</td>\n      <td>DDR4</td>\n      <td>9000000</td>\n    </tr>\n    <tr>\n      <th>311</th>\n      <td>dkp-2047531</td>\n      <td>asus</td>\n      <td>1.900</td>\n      <td>Intel</td>\n      <td>Celeron</td>\n      <td>N4000</td>\n      <td>4000000</td>\n      <td>1.1</td>\n      <td>2.6</td>\n      <td>Intel</td>\n      <td>...</td>\n      <td>0</td>\n      <td>1</td>\n      <td>2</td>\n      <td>0</td>\n      <td>0</td>\n      <td>0</td>\n      <td>0</td>\n      <td>4000000000</td>\n      <td>DDR4</td>\n      <td>8990000</td>\n    </tr>\n    <tr>\n      <th>312</th>\n      <td>dkp-1946433</td>\n      <td>lenovo</td>\n      <td>1.850</td>\n      <td>Intel</td>\n      <td>Celeron</td>\n      <td>N4000</td>\n      <td>4000000</td>\n      <td>1.0</td>\n      <td>2.6</td>\n      <td>Intel</td>\n      <td>...</td>\n      <td>0</td>\n      <td>2</td>\n      <td>0</td>\n      <td>0</td>\n      <td>0</td>\n      <td>0</td>\n      <td>0</td>\n      <td>8000000000</td>\n      <td>DDR4</td>\n      <td>8990000</td>\n    </tr>\n  </tbody>\n</table>\n<p>313 rows × 29 columns</p>\n</div>"
     },
     "metadata": {},
     "execution_count": 6
    }
   ],
   "source": [
    "df"
   ]
  },
  {
   "cell_type": "code",
   "execution_count": 7,
   "metadata": {},
   "outputs": [],
   "source": [
    "import sqlite3\n",
    "cpu_bench = sqlite3.connect('cpu_benchmark.db')"
   ]
  },
  {
   "cell_type": "code",
   "execution_count": 8,
   "metadata": {},
   "outputs": [
    {
     "output_type": "execute_result",
     "data": {
      "text/plain": [
       "      product_id      brand  weight  cpu_cache freq freq_bound     gpu  \\\n",
       "0    dkp-3404802  microsoft   1.642    8000000  1.3        3.9  NVIDIA   \n",
       "1    dkp-3404485  microsoft   1.534    8000000  1.3        3.9  NVIDIA   \n",
       "2    dkp-3154329  microsoft   1.642    8000000  1.3        3.9  NVIDIA   \n",
       "3    dkp-3154032  microsoft   1.642    8000000  1.3        3.9  NVIDIA   \n",
       "4    dkp-5020231       dell   2.560   12000000  2.6        5.0  NVIDIA   \n",
       "..           ...        ...     ...        ...  ...        ...     ...   \n",
       "308  dkp-1788325     lenovo   2.200    4000000  1.1        2.6   Intel   \n",
       "309  dkp-4877214       asus   1.900    4000000  1.1        2.8   Intel   \n",
       "310  dkp-4540657       asus   1.900    4000000  1.1        2.8   Intel   \n",
       "311  dkp-2047531       asus   1.900    4000000  1.1        2.6   Intel   \n",
       "312  dkp-1946433     lenovo   1.850    4000000  1.0        2.6   Intel   \n",
       "\n",
       "                   gpu_model    gpu_size            HDD  ...  usb3  usb2 usb4  \\\n",
       "0     NvidiaQuadroRTX3000Max  6000000000              0  ...     2     0    0   \n",
       "1    NvidiaGeForceGTX1650Max  4000000000              0  ...     2     0    0   \n",
       "2     NVIDIAGeForceGTX1660Ti  6000000000              0  ...     2     0    0   \n",
       "3     NVIDIAGeForceGTX1660Ti  6000000000              0  ...     2     0    0   \n",
       "4              NVIDIARTX2070  8000000000              0  ...     3     0    0   \n",
       "..                       ...         ...            ...  ...   ...   ...  ...   \n",
       "308           UHDGraphics600           0  1000000000000  ...     1     1    0   \n",
       "309      IntelUHDGraphics600           0  1000000000000  ...     0     2    0   \n",
       "310            HDGRAPHICS500           0  1000000000000  ...     1     2    0   \n",
       "311            HDGRAPHICS500           0  1000000000000  ...     1     2    0   \n",
       "312                    Intel           0  1000000000000  ...     2     0    0   \n",
       "\n",
       "     usbc  battery                  os          ram ram_kind      price  \\\n",
       "0       1        0  MicrosoftWindows10  32000000000     DDR4  106409000   \n",
       "1       1        0  MicrosoftWindows10  32000000000     DDR4   93699000   \n",
       "2       1        0  MicrosoftWindows10  32000000000     DDR4   86900000   \n",
       "3       1        0  MicrosoftWindows10  16000000000     DDR4   76299000   \n",
       "4       1        0  MicrosoftWindows10  32000000000     DDR4   75900000   \n",
       "..    ...      ...                 ...          ...      ...        ...   \n",
       "308     0        0                   0   8000000000     DDR4   10000000   \n",
       "309     0        0                   0   4000000000     DDR4    9100000   \n",
       "310     0        0                   0   4000000000     DDR4    9000000   \n",
       "311     0        0                   0   4000000000     DDR4    8990000   \n",
       "312     0        0                   0   8000000000     DDR4    8990000   \n",
       "\n",
       "     cpu_bench  \n",
       "0         8850  \n",
       "1         8850  \n",
       "2         8850  \n",
       "3         8850  \n",
       "4        12575  \n",
       "..         ...  \n",
       "308       1602  \n",
       "309       1622  \n",
       "310       1622  \n",
       "311       1602  \n",
       "312       1602  \n",
       "\n",
       "[313 rows x 27 columns]"
      ],
      "text/html": "<div>\n<style scoped>\n    .dataframe tbody tr th:only-of-type {\n        vertical-align: middle;\n    }\n\n    .dataframe tbody tr th {\n        vertical-align: top;\n    }\n\n    .dataframe thead th {\n        text-align: right;\n    }\n</style>\n<table border=\"1\" class=\"dataframe\">\n  <thead>\n    <tr style=\"text-align: right;\">\n      <th></th>\n      <th>product_id</th>\n      <th>brand</th>\n      <th>weight</th>\n      <th>cpu_cache</th>\n      <th>freq</th>\n      <th>freq_bound</th>\n      <th>gpu</th>\n      <th>gpu_model</th>\n      <th>gpu_size</th>\n      <th>HDD</th>\n      <th>...</th>\n      <th>usb3</th>\n      <th>usb2</th>\n      <th>usb4</th>\n      <th>usbc</th>\n      <th>battery</th>\n      <th>os</th>\n      <th>ram</th>\n      <th>ram_kind</th>\n      <th>price</th>\n      <th>cpu_bench</th>\n    </tr>\n  </thead>\n  <tbody>\n    <tr>\n      <th>0</th>\n      <td>dkp-3404802</td>\n      <td>microsoft</td>\n      <td>1.642</td>\n      <td>8000000</td>\n      <td>1.3</td>\n      <td>3.9</td>\n      <td>NVIDIA</td>\n      <td>NvidiaQuadroRTX3000Max</td>\n      <td>6000000000</td>\n      <td>0</td>\n      <td>...</td>\n      <td>2</td>\n      <td>0</td>\n      <td>0</td>\n      <td>1</td>\n      <td>0</td>\n      <td>MicrosoftWindows10</td>\n      <td>32000000000</td>\n      <td>DDR4</td>\n      <td>106409000</td>\n      <td>8850</td>\n    </tr>\n    <tr>\n      <th>1</th>\n      <td>dkp-3404485</td>\n      <td>microsoft</td>\n      <td>1.534</td>\n      <td>8000000</td>\n      <td>1.3</td>\n      <td>3.9</td>\n      <td>NVIDIA</td>\n      <td>NvidiaGeForceGTX1650Max</td>\n      <td>4000000000</td>\n      <td>0</td>\n      <td>...</td>\n      <td>2</td>\n      <td>0</td>\n      <td>0</td>\n      <td>1</td>\n      <td>0</td>\n      <td>MicrosoftWindows10</td>\n      <td>32000000000</td>\n      <td>DDR4</td>\n      <td>93699000</td>\n      <td>8850</td>\n    </tr>\n    <tr>\n      <th>2</th>\n      <td>dkp-3154329</td>\n      <td>microsoft</td>\n      <td>1.642</td>\n      <td>8000000</td>\n      <td>1.3</td>\n      <td>3.9</td>\n      <td>NVIDIA</td>\n      <td>NVIDIAGeForceGTX1660Ti</td>\n      <td>6000000000</td>\n      <td>0</td>\n      <td>...</td>\n      <td>2</td>\n      <td>0</td>\n      <td>0</td>\n      <td>1</td>\n      <td>0</td>\n      <td>MicrosoftWindows10</td>\n      <td>32000000000</td>\n      <td>DDR4</td>\n      <td>86900000</td>\n      <td>8850</td>\n    </tr>\n    <tr>\n      <th>3</th>\n      <td>dkp-3154032</td>\n      <td>microsoft</td>\n      <td>1.642</td>\n      <td>8000000</td>\n      <td>1.3</td>\n      <td>3.9</td>\n      <td>NVIDIA</td>\n      <td>NVIDIAGeForceGTX1660Ti</td>\n      <td>6000000000</td>\n      <td>0</td>\n      <td>...</td>\n      <td>2</td>\n      <td>0</td>\n      <td>0</td>\n      <td>1</td>\n      <td>0</td>\n      <td>MicrosoftWindows10</td>\n      <td>16000000000</td>\n      <td>DDR4</td>\n      <td>76299000</td>\n      <td>8850</td>\n    </tr>\n    <tr>\n      <th>4</th>\n      <td>dkp-5020231</td>\n      <td>dell</td>\n      <td>2.560</td>\n      <td>12000000</td>\n      <td>2.6</td>\n      <td>5.0</td>\n      <td>NVIDIA</td>\n      <td>NVIDIARTX2070</td>\n      <td>8000000000</td>\n      <td>0</td>\n      <td>...</td>\n      <td>3</td>\n      <td>0</td>\n      <td>0</td>\n      <td>1</td>\n      <td>0</td>\n      <td>MicrosoftWindows10</td>\n      <td>32000000000</td>\n      <td>DDR4</td>\n      <td>75900000</td>\n      <td>12575</td>\n    </tr>\n    <tr>\n      <th>...</th>\n      <td>...</td>\n      <td>...</td>\n      <td>...</td>\n      <td>...</td>\n      <td>...</td>\n      <td>...</td>\n      <td>...</td>\n      <td>...</td>\n      <td>...</td>\n      <td>...</td>\n      <td>...</td>\n      <td>...</td>\n      <td>...</td>\n      <td>...</td>\n      <td>...</td>\n      <td>...</td>\n      <td>...</td>\n      <td>...</td>\n      <td>...</td>\n      <td>...</td>\n      <td>...</td>\n    </tr>\n    <tr>\n      <th>308</th>\n      <td>dkp-1788325</td>\n      <td>lenovo</td>\n      <td>2.200</td>\n      <td>4000000</td>\n      <td>1.1</td>\n      <td>2.6</td>\n      <td>Intel</td>\n      <td>UHDGraphics600</td>\n      <td>0</td>\n      <td>1000000000000</td>\n      <td>...</td>\n      <td>1</td>\n      <td>1</td>\n      <td>0</td>\n      <td>0</td>\n      <td>0</td>\n      <td>0</td>\n      <td>8000000000</td>\n      <td>DDR4</td>\n      <td>10000000</td>\n      <td>1602</td>\n    </tr>\n    <tr>\n      <th>309</th>\n      <td>dkp-4877214</td>\n      <td>asus</td>\n      <td>1.900</td>\n      <td>4000000</td>\n      <td>1.1</td>\n      <td>2.8</td>\n      <td>Intel</td>\n      <td>IntelUHDGraphics600</td>\n      <td>0</td>\n      <td>1000000000000</td>\n      <td>...</td>\n      <td>0</td>\n      <td>2</td>\n      <td>0</td>\n      <td>0</td>\n      <td>0</td>\n      <td>0</td>\n      <td>4000000000</td>\n      <td>DDR4</td>\n      <td>9100000</td>\n      <td>1622</td>\n    </tr>\n    <tr>\n      <th>310</th>\n      <td>dkp-4540657</td>\n      <td>asus</td>\n      <td>1.900</td>\n      <td>4000000</td>\n      <td>1.1</td>\n      <td>2.8</td>\n      <td>Intel</td>\n      <td>HDGRAPHICS500</td>\n      <td>0</td>\n      <td>1000000000000</td>\n      <td>...</td>\n      <td>1</td>\n      <td>2</td>\n      <td>0</td>\n      <td>0</td>\n      <td>0</td>\n      <td>0</td>\n      <td>4000000000</td>\n      <td>DDR4</td>\n      <td>9000000</td>\n      <td>1622</td>\n    </tr>\n    <tr>\n      <th>311</th>\n      <td>dkp-2047531</td>\n      <td>asus</td>\n      <td>1.900</td>\n      <td>4000000</td>\n      <td>1.1</td>\n      <td>2.6</td>\n      <td>Intel</td>\n      <td>HDGRAPHICS500</td>\n      <td>0</td>\n      <td>1000000000000</td>\n      <td>...</td>\n      <td>1</td>\n      <td>2</td>\n      <td>0</td>\n      <td>0</td>\n      <td>0</td>\n      <td>0</td>\n      <td>4000000000</td>\n      <td>DDR4</td>\n      <td>8990000</td>\n      <td>1602</td>\n    </tr>\n    <tr>\n      <th>312</th>\n      <td>dkp-1946433</td>\n      <td>lenovo</td>\n      <td>1.850</td>\n      <td>4000000</td>\n      <td>1.0</td>\n      <td>2.6</td>\n      <td>Intel</td>\n      <td>Intel</td>\n      <td>0</td>\n      <td>1000000000000</td>\n      <td>...</td>\n      <td>2</td>\n      <td>0</td>\n      <td>0</td>\n      <td>0</td>\n      <td>0</td>\n      <td>0</td>\n      <td>8000000000</td>\n      <td>DDR4</td>\n      <td>8990000</td>\n      <td>1602</td>\n    </tr>\n  </tbody>\n</table>\n<p>313 rows × 27 columns</p>\n</div>"
     },
     "metadata": {},
     "execution_count": 8
    }
   ],
   "source": [
    "cps = {\n",
    "    'Intel Core i7 10thGen': 'Intel Core i7 10750H',\n",
    "    'Intel Core i7 7thGenIntel': 'Intel Core i7 10510Y',\n",
    "    'Intel Core i7 i7':'Intel Core i7 6660U',\n",
    "    'AMD Ryzen 5 AMD5500U4C': 'AMD Ryzen 5 5500U',\n",
    "    'Intel Core i5 quad':'Intel Core i5 10200H',\n",
    "    'Intel Core i5 Quad':'Intel Core i5 10200H',\n",
    "    'Intel Core i7 Quad':'Intel Core i7 10750H',\n",
    "    'Apple M1 AppleM1chip':'Apple M1 8 Core 3200 MHz',\n",
    "    'Intel Core i7 8550U':'Intel Core i7 8557U',\n",
    "    'Intel Core i5 10thGeneration1030NG7':'Intel Core i5 1030NG7',\n",
    "    'Intel Core i5 10thGenerationIntelCorei5':'Intel Core i5 1030NG7',\n",
    "    'Intel Core i5 dual':'Intel Core i5 L16G7',\n",
    "    'Intel Core i3 dual':'Intel Core i3 7167U',\n",
    "    'Intel Core i5 1035ّG1':'Intel Core i5 1035G1',\n",
    "    'Intel Core i3 7100U':'Intel Core i3 7167U',\n",
    "    'Intel Core i5 10510U':'Intel Core i5 10400H',\n",
    "    'Intel Core i5 8250U':'Intel Core i5 8259U',\n",
    "    'Intel Core i5 IntelCorei5QuadCore8thGeneration8250U':'Intel Core i5 8259U',\n",
    "    'AMD Ryzen 5 2500U':'AMD Ryzen 5 2600H',\n",
    "    'AMD Ryzen 5 R5':'AMD Ryzen 5 4600U',\n",
    "    'AMD Ryzen 5 Ryzen53500U':'AMD Ryzen 5 5500U',\n",
    "    'AMD BristolRidge A9':'AMD A9 9425',\n",
    "    'AMD Ryzen 3 2200U':'AMD Ryzen 3 3200U',\n",
    "    'AMD BristolRidge A6':'AMD A6 9400',\n",
    "    'AMD BristolRidge AMDA6':'AMD A6 9400',\n",
    "    'Intel Core i3 8130U':'Intel Core i3 8145U',\n",
    "    'Intel Core i3 7020U':'Intel Core i3 7102E',\n",
    "    'Intel Pentium PentiumGold6405U':'Intel Pentium 6405U',\n",
    "    'Intel Celeron 4205UCeleron4000Series':'Intel Celeron 4205U',\n",
    "    'AMD Ryzen 5 AMDRyzen53500U4C':'AMD Ryzen 5 5500U',\n",
    "    'Intel Pentium N5000':'Intel Celeron N5100',\n",
    "    'Intel Pentium N5030':'Intel Celeron N5100',\n",
    "    'Intel Pentium 4415U':'Intel Pentium 4417U',\n",
    "    'Intel Core i3 10thNEWGenprocessorIntelRCoreTMi3':'Intel Core i3 1000NG4'\n",
    "}\n",
    "\n",
    "for (i, cpu, cpu_series, cpu_model) in zip(range(len(df)), df.cpu,df.cpu_series,df.cpu_model):\n",
    "    cpu_series = cpu_series.replace('Core', 'Core ')\n",
    "    cpu_series = cpu_series.replace('Ryzen', 'Ryzen ')\n",
    "    cpu_model = cpu_model.replace('(', '')\n",
    "    cpu_model = cpu_model.replace(')', '')\n",
    "    text = cpu +' '+ cpu_series +' '+ cpu_model\n",
    "    \n",
    "    for cp in cps:\n",
    "        if text == cp:\n",
    "            text = cps[cp]\n",
    "    \n",
    "    bench = cpu_bench.execute(\"SELECT * FROM cpu WHERE cpu LIKE '%\"+text+\"%'\").fetchall()\n",
    "    try: bch = bench[0][2]\n",
    "    except: bch = 0\n",
    "    df.loc[i, 'cpu_bench'] = bch\n",
    "del df['cpu']\n",
    "del df['cpu_series']\n",
    "del df['cpu_model']\n",
    "df"
   ]
  },
  {
   "cell_type": "code",
   "execution_count": 9,
   "metadata": {},
   "outputs": [
    {
     "output_type": "execute_result",
     "data": {
      "text/plain": [
       "{'AMD', 'Apple', 'Intel', 'NVIDIA'}"
      ]
     },
     "metadata": {},
     "execution_count": 9
    }
   ],
   "source": [
    "gpus = set(df['gpu'].tolist())\n",
    "gpus"
   ]
  },
  {
   "cell_type": "code",
   "execution_count": 10,
   "metadata": {},
   "outputs": [],
   "source": [
    "gpu = {'AMD':0.7,\n",
    "        'Intel':0.4,\n",
    "        'Apple':0.6,\n",
    "        'NVIDIA':0.8}\n",
    "df['gpu'].replace(gpu, inplace=True)\n",
    "del df['gpu_model']\n",
    "\n"
   ]
  },
  {
   "cell_type": "code",
   "execution_count": 11,
   "metadata": {},
   "outputs": [
    {
     "output_type": "execute_result",
     "data": {
      "text/plain": [
       "{'2160x1440',\n",
       " '2256x1504',\n",
       " '3000x2000',\n",
       " '3072x1920',\n",
       " '3240x2160',\n",
       " 'FullHD',\n",
       " 'HD',\n",
       " 'QHD',\n",
       " 'UHD',\n",
       " 'WQXGA',\n",
       " 'WUXGA'}"
      ]
     },
     "metadata": {},
     "execution_count": 11
    }
   ],
   "source": [
    "scr = set(df['screen_acc'].tolist())\n",
    "scr"
   ]
  },
  {
   "cell_type": "code",
   "execution_count": 12,
   "metadata": {},
   "outputs": [],
   "source": [
    "scrs = {'2160x1440':0.21,\n",
    " '2256x1504':0.22,\n",
    " '3000x2000':0.3,\n",
    " '3072x1920':0.31,\n",
    " '3240x2160':0.32,\n",
    " 'FullHD':0.2,\n",
    " 'HD':0.1,\n",
    " 'QHD':0.26,\n",
    " 'UHD':0.39,\n",
    " 'WQXGA':0.26,\n",
    " 'WUXGA':0.19}\n",
    "df['screen_acc'].replace(scrs, inplace=True)\n"
   ]
  },
  {
   "cell_type": "code",
   "execution_count": 13,
   "metadata": {},
   "outputs": [
    {
     "output_type": "execute_result",
     "data": {
      "text/plain": [
       "{'acer',\n",
       " 'apple',\n",
       " 'asus',\n",
       " 'dell',\n",
       " 'envy',\n",
       " 'hp',\n",
       " 'huawei',\n",
       " 'lenovo',\n",
       " 'lenovoideapad',\n",
       " 'lenovothinkpad',\n",
       " 'microsoft',\n",
       " 'msi',\n",
       " 'porsche',\n",
       " 'unknown'}"
      ]
     },
     "metadata": {},
     "execution_count": 13
    }
   ],
   "source": [
    "brands = set(df['brand'].tolist())\n",
    "brands"
   ]
  },
  {
   "cell_type": "code",
   "execution_count": 14,
   "metadata": {},
   "outputs": [],
   "source": [
    "#https://www.laptopmag.com/features/laptop-brand-ratings\n",
    "brands = {\n",
    "    'asus': 0.88,\n",
    "    'dell': 0.85,\n",
    "    'hp': 0.82,\n",
    "    'envy': 0.82,\n",
    "    'msi': 0.78,\n",
    "    'lenovo': 0.77,\n",
    "    'lenovoideapad': 0.77,\n",
    "    'lenovothinkpad': 0.77,\n",
    "    'acer': 0.76,\n",
    "    'razer': 0.76,\n",
    "    'samsung': 0.75,\n",
    "    'alienware': 0.75,\n",
    "    'apple': 0.73,\n",
    "    'microsoft': 0.70,\n",
    "    'huawei': 0.6,\n",
    "    'porsche': 0.6,\n",
    "    'unknown': 0.5\n",
    "}\n",
    "df['brand'].replace(brands, inplace=True)"
   ]
  },
  {
   "cell_type": "code",
   "execution_count": 15,
   "metadata": {},
   "outputs": [
    {
     "output_type": "execute_result",
     "data": {
      "text/plain": [
       "{'DDR3', 'DDR4', 'LPDDR3', 'LPDDR4', 'LPDDR4X', 'Unified'}"
      ]
     },
     "metadata": {},
     "execution_count": 15
    }
   ],
   "source": [
    "ram = set(df['ram_kind'].tolist())\n",
    "ram"
   ]
  },
  {
   "cell_type": "code",
   "execution_count": 16,
   "metadata": {},
   "outputs": [],
   "source": [
    "rams = {\n",
    "    'DDR3':  0.12,\n",
    "    'LPDDR3': 0.16,\n",
    "    'DDR4': 0.25,\n",
    "    'LPDDR4': 0.3,\n",
    "    'LPDDR4X': 0.32,\n",
    "    'Unified': 0.4,\n",
    "}\n",
    "df['ram_kind'].replace(rams, inplace= True)"
   ]
  },
  {
   "cell_type": "code",
   "execution_count": 17,
   "metadata": {},
   "outputs": [],
   "source": [
    "del df['port_serial']\n",
    "del df['usb2']\n",
    "del df['usb3']\n",
    "del df['usbc']\n",
    "del df['usb4']\n",
    "del df['battery']\n",
    "del df['os']\n",
    "del df['port_hdmi']\n",
    "del df['port_thunderbolt']\n",
    "del df['port_vga']"
   ]
  },
  {
   "cell_type": "code",
   "execution_count": 18,
   "metadata": {},
   "outputs": [
    {
     "output_type": "execute_result",
     "data": {
      "text/plain": [
       "      product_id  brand  weight  cpu_cache freq freq_bound  gpu    gpu_size  \\\n",
       "0    dkp-3404802   0.70   1.642    8000000  1.3        3.9  0.8  6000000000   \n",
       "1    dkp-3404485   0.70   1.534    8000000  1.3        3.9  0.8  4000000000   \n",
       "2    dkp-3154329   0.70   1.642    8000000  1.3        3.9  0.8  6000000000   \n",
       "3    dkp-3154032   0.70   1.642    8000000  1.3        3.9  0.8  6000000000   \n",
       "4    dkp-5020231   0.85   2.560   12000000  2.6        5.0  0.8  8000000000   \n",
       "..           ...    ...     ...        ...  ...        ...  ...         ...   \n",
       "308  dkp-1788325   0.77   2.200    4000000  1.1        2.6  0.4           0   \n",
       "309  dkp-4877214   0.88   1.900    4000000  1.1        2.8  0.4           0   \n",
       "310  dkp-4540657   0.88   1.900    4000000  1.1        2.8  0.4           0   \n",
       "311  dkp-2047531   0.88   1.900    4000000  1.1        2.6  0.4           0   \n",
       "312  dkp-1946433   0.77   1.850    4000000  1.0        2.6  0.4           0   \n",
       "\n",
       "               HDD            SSD  screen_size  screen_acc          ram  \\\n",
       "0                0  1000000000000         15.0        0.32  32000000000   \n",
       "1                0  1000000000000         13.5        0.30  32000000000   \n",
       "2                0   512000000000         15.0        0.32  32000000000   \n",
       "3                0   256000000000         15.0        0.32  16000000000   \n",
       "4                0  1000000000000         15.6        0.20  32000000000   \n",
       "..             ...            ...          ...         ...          ...   \n",
       "308  1000000000000              0         15.6        0.10   8000000000   \n",
       "309  1000000000000              0         15.6        0.10   4000000000   \n",
       "310  1000000000000              0         15.6        0.20   4000000000   \n",
       "311  1000000000000              0         15.6        0.20   4000000000   \n",
       "312  1000000000000              0         15.6        0.10   8000000000   \n",
       "\n",
       "     ram_kind      price cpu_bench  \n",
       "0        0.25  106409000      8850  \n",
       "1        0.25   93699000      8850  \n",
       "2        0.25   86900000      8850  \n",
       "3        0.25   76299000      8850  \n",
       "4        0.25   75900000     12575  \n",
       "..        ...        ...       ...  \n",
       "308      0.25   10000000      1602  \n",
       "309      0.25    9100000      1622  \n",
       "310      0.25    9000000      1622  \n",
       "311      0.25    8990000      1602  \n",
       "312      0.25    8990000      1602  \n",
       "\n",
       "[313 rows x 16 columns]"
      ],
      "text/html": "<div>\n<style scoped>\n    .dataframe tbody tr th:only-of-type {\n        vertical-align: middle;\n    }\n\n    .dataframe tbody tr th {\n        vertical-align: top;\n    }\n\n    .dataframe thead th {\n        text-align: right;\n    }\n</style>\n<table border=\"1\" class=\"dataframe\">\n  <thead>\n    <tr style=\"text-align: right;\">\n      <th></th>\n      <th>product_id</th>\n      <th>brand</th>\n      <th>weight</th>\n      <th>cpu_cache</th>\n      <th>freq</th>\n      <th>freq_bound</th>\n      <th>gpu</th>\n      <th>gpu_size</th>\n      <th>HDD</th>\n      <th>SSD</th>\n      <th>screen_size</th>\n      <th>screen_acc</th>\n      <th>ram</th>\n      <th>ram_kind</th>\n      <th>price</th>\n      <th>cpu_bench</th>\n    </tr>\n  </thead>\n  <tbody>\n    <tr>\n      <th>0</th>\n      <td>dkp-3404802</td>\n      <td>0.70</td>\n      <td>1.642</td>\n      <td>8000000</td>\n      <td>1.3</td>\n      <td>3.9</td>\n      <td>0.8</td>\n      <td>6000000000</td>\n      <td>0</td>\n      <td>1000000000000</td>\n      <td>15.0</td>\n      <td>0.32</td>\n      <td>32000000000</td>\n      <td>0.25</td>\n      <td>106409000</td>\n      <td>8850</td>\n    </tr>\n    <tr>\n      <th>1</th>\n      <td>dkp-3404485</td>\n      <td>0.70</td>\n      <td>1.534</td>\n      <td>8000000</td>\n      <td>1.3</td>\n      <td>3.9</td>\n      <td>0.8</td>\n      <td>4000000000</td>\n      <td>0</td>\n      <td>1000000000000</td>\n      <td>13.5</td>\n      <td>0.30</td>\n      <td>32000000000</td>\n      <td>0.25</td>\n      <td>93699000</td>\n      <td>8850</td>\n    </tr>\n    <tr>\n      <th>2</th>\n      <td>dkp-3154329</td>\n      <td>0.70</td>\n      <td>1.642</td>\n      <td>8000000</td>\n      <td>1.3</td>\n      <td>3.9</td>\n      <td>0.8</td>\n      <td>6000000000</td>\n      <td>0</td>\n      <td>512000000000</td>\n      <td>15.0</td>\n      <td>0.32</td>\n      <td>32000000000</td>\n      <td>0.25</td>\n      <td>86900000</td>\n      <td>8850</td>\n    </tr>\n    <tr>\n      <th>3</th>\n      <td>dkp-3154032</td>\n      <td>0.70</td>\n      <td>1.642</td>\n      <td>8000000</td>\n      <td>1.3</td>\n      <td>3.9</td>\n      <td>0.8</td>\n      <td>6000000000</td>\n      <td>0</td>\n      <td>256000000000</td>\n      <td>15.0</td>\n      <td>0.32</td>\n      <td>16000000000</td>\n      <td>0.25</td>\n      <td>76299000</td>\n      <td>8850</td>\n    </tr>\n    <tr>\n      <th>4</th>\n      <td>dkp-5020231</td>\n      <td>0.85</td>\n      <td>2.560</td>\n      <td>12000000</td>\n      <td>2.6</td>\n      <td>5.0</td>\n      <td>0.8</td>\n      <td>8000000000</td>\n      <td>0</td>\n      <td>1000000000000</td>\n      <td>15.6</td>\n      <td>0.20</td>\n      <td>32000000000</td>\n      <td>0.25</td>\n      <td>75900000</td>\n      <td>12575</td>\n    </tr>\n    <tr>\n      <th>...</th>\n      <td>...</td>\n      <td>...</td>\n      <td>...</td>\n      <td>...</td>\n      <td>...</td>\n      <td>...</td>\n      <td>...</td>\n      <td>...</td>\n      <td>...</td>\n      <td>...</td>\n      <td>...</td>\n      <td>...</td>\n      <td>...</td>\n      <td>...</td>\n      <td>...</td>\n      <td>...</td>\n    </tr>\n    <tr>\n      <th>308</th>\n      <td>dkp-1788325</td>\n      <td>0.77</td>\n      <td>2.200</td>\n      <td>4000000</td>\n      <td>1.1</td>\n      <td>2.6</td>\n      <td>0.4</td>\n      <td>0</td>\n      <td>1000000000000</td>\n      <td>0</td>\n      <td>15.6</td>\n      <td>0.10</td>\n      <td>8000000000</td>\n      <td>0.25</td>\n      <td>10000000</td>\n      <td>1602</td>\n    </tr>\n    <tr>\n      <th>309</th>\n      <td>dkp-4877214</td>\n      <td>0.88</td>\n      <td>1.900</td>\n      <td>4000000</td>\n      <td>1.1</td>\n      <td>2.8</td>\n      <td>0.4</td>\n      <td>0</td>\n      <td>1000000000000</td>\n      <td>0</td>\n      <td>15.6</td>\n      <td>0.10</td>\n      <td>4000000000</td>\n      <td>0.25</td>\n      <td>9100000</td>\n      <td>1622</td>\n    </tr>\n    <tr>\n      <th>310</th>\n      <td>dkp-4540657</td>\n      <td>0.88</td>\n      <td>1.900</td>\n      <td>4000000</td>\n      <td>1.1</td>\n      <td>2.8</td>\n      <td>0.4</td>\n      <td>0</td>\n      <td>1000000000000</td>\n      <td>0</td>\n      <td>15.6</td>\n      <td>0.20</td>\n      <td>4000000000</td>\n      <td>0.25</td>\n      <td>9000000</td>\n      <td>1622</td>\n    </tr>\n    <tr>\n      <th>311</th>\n      <td>dkp-2047531</td>\n      <td>0.88</td>\n      <td>1.900</td>\n      <td>4000000</td>\n      <td>1.1</td>\n      <td>2.6</td>\n      <td>0.4</td>\n      <td>0</td>\n      <td>1000000000000</td>\n      <td>0</td>\n      <td>15.6</td>\n      <td>0.20</td>\n      <td>4000000000</td>\n      <td>0.25</td>\n      <td>8990000</td>\n      <td>1602</td>\n    </tr>\n    <tr>\n      <th>312</th>\n      <td>dkp-1946433</td>\n      <td>0.77</td>\n      <td>1.850</td>\n      <td>4000000</td>\n      <td>1.0</td>\n      <td>2.6</td>\n      <td>0.4</td>\n      <td>0</td>\n      <td>1000000000000</td>\n      <td>0</td>\n      <td>15.6</td>\n      <td>0.10</td>\n      <td>8000000000</td>\n      <td>0.25</td>\n      <td>8990000</td>\n      <td>1602</td>\n    </tr>\n  </tbody>\n</table>\n<p>313 rows × 16 columns</p>\n</div>"
     },
     "metadata": {},
     "execution_count": 18
    }
   ],
   "source": [
    "df"
   ]
  },
  {
   "cell_type": "code",
   "execution_count": 19,
   "metadata": {},
   "outputs": [
    {
     "output_type": "execute_result",
     "data": {
      "text/plain": [
       "{0, 500000000000, 544000000000, 1000000000000, 2000000000000}"
      ]
     },
     "metadata": {},
     "execution_count": 19
    }
   ],
   "source": [
    "hdd = set(df['HDD'].tolist())\n",
    "hdd"
   ]
  },
  {
   "cell_type": "code",
   "execution_count": 20,
   "metadata": {},
   "outputs": [],
   "source": [
    "hdds = {500000000000:500, 544000000000:544, 1000000000000:1000, 2000000000000:2000}\n",
    "df['HDD'].replace(hdds, inplace= True)"
   ]
  },
  {
   "cell_type": "code",
   "execution_count": 21,
   "metadata": {},
   "outputs": [
    {
     "output_type": "execute_result",
     "data": {
      "text/plain": [
       "{0,\n",
       " 256,\n",
       " 5400,\n",
       " 128000000000,\n",
       " 240000000000,\n",
       " 250000000000,\n",
       " 256000000000,\n",
       " 500000000000,\n",
       " 512000000000,\n",
       " 1000000000000}"
      ]
     },
     "metadata": {},
     "execution_count": 21
    }
   ],
   "source": [
    "ssd = set(df['SSD'].tolist())\n",
    "ssd"
   ]
  },
  {
   "cell_type": "code",
   "execution_count": 22,
   "metadata": {},
   "outputs": [],
   "source": [
    "ssds = {\n",
    " 5400:540,\n",
    " 128000000000:128,\n",
    " 240000000000:240,\n",
    " 250000000000:250,\n",
    " 256000000000:256,\n",
    " 500000000000:500,\n",
    " 512000000000:512,\n",
    " 1000000000000:1000}\n",
    "df['SSD'].replace(ssds, inplace= True)"
   ]
  },
  {
   "cell_type": "code",
   "execution_count": 23,
   "metadata": {},
   "outputs": [
    {
     "output_type": "execute_result",
     "data": {
      "text/plain": [
       "{0, 512000000, 1000000000, 2000000000, 4000000000, 6000000000, 8000000000}"
      ]
     },
     "metadata": {},
     "execution_count": 23
    }
   ],
   "source": [
    "gs = set(df['gpu_size'].tolist())\n",
    "gs\n"
   ]
  },
  {
   "cell_type": "code",
   "execution_count": 24,
   "metadata": {},
   "outputs": [],
   "source": [
    "gss = {512000000:512,\n",
    "       1000000000:1000,\n",
    "       2000000000:2000,\n",
    "       4000000000:4000,\n",
    "       6000000000:6000,\n",
    "       8000000000:8000}\n",
    "df['gpu_size'].replace(gss, inplace= True)\n"
   ]
  },
  {
   "cell_type": "code",
   "execution_count": 25,
   "metadata": {},
   "outputs": [
    {
     "output_type": "execute_result",
     "data": {
      "text/plain": [
       "{-1, 1000000, 2000000, 3000000, 4000000, 6000000, 8000000, 12000000, 16000000}"
      ]
     },
     "metadata": {},
     "execution_count": 25
    }
   ],
   "source": [
    "cch = set(df['cpu_cache'].tolist())\n",
    "cch"
   ]
  },
  {
   "cell_type": "code",
   "execution_count": 26,
   "metadata": {},
   "outputs": [],
   "source": [
    "cchs = {-1:5, 1000000:1, 2000000:2, 3000000:3, 4000000:4, 6000000:6, 8000000:8, 12000000:12, 16000000:16}\n",
    "df['cpu_cache'].replace(cchs, inplace= True)"
   ]
  },
  {
   "source": [],
   "cell_type": "markdown",
   "metadata": {}
  },
  {
   "cell_type": "code",
   "execution_count": 27,
   "metadata": {},
   "outputs": [
    {
     "output_type": "execute_result",
     "data": {
      "text/plain": [
       "{4000000000, 8000000000, 12000000000, 16000000000, 32000000000}"
      ]
     },
     "metadata": {},
     "execution_count": 27
    }
   ],
   "source": [
    "ram = set(df['ram'].tolist())\n",
    "ram"
   ]
  },
  {
   "cell_type": "code",
   "execution_count": 28,
   "metadata": {},
   "outputs": [],
   "source": [
    "rams ={4000000000:4, 8000000000:8, 12000000000:12, 16000000000:16, 32000000000:32}\n",
    "df['ram'].replace(rams, inplace= True)"
   ]
  },
  {
   "cell_type": "code",
   "execution_count": 29,
   "metadata": {},
   "outputs": [],
   "source": [
    "df.to_csv('clean.csv')"
   ]
  }
 ]
}