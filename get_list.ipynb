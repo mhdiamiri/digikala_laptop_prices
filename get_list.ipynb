{
 "metadata": {
  "language_info": {
   "codemirror_mode": {
    "name": "ipython",
    "version": 3
   },
   "file_extension": ".py",
   "mimetype": "text/x-python",
   "name": "python",
   "nbconvert_exporter": "python",
   "pygments_lexer": "ipython3",
   "version": "3.8.3"
  },
  "orig_nbformat": 2,
  "kernelspec": {
   "name": "python383jvsc74a57bd097bc2c7c187403e015fbc9337e5c0a175db10957dce6aa4ee71587c6f450d1fd",
   "display_name": "Python 3.8.3 64-bit ('base': conda)"
  },
  "metadata": {
   "interpreter": {
    "hash": "97bc2c7c187403e015fbc9337e5c0a175db10957dce6aa4ee71587c6f450d1fd"
   }
  }
 },
 "nbformat": 4,
 "nbformat_minor": 2,
 "cells": [
  {
   "cell_type": "code",
   "execution_count": 2,
   "metadata": {},
   "outputs": [],
   "source": [
    "import requests\n",
    "import re\n",
    "from bs4 import BeautifulSoup\n",
    "import sqlite3"
   ]
  },
  {
   "cell_type": "code",
   "execution_count": 3,
   "metadata": {},
   "outputs": [],
   "source": [
    "def get_products(page, database):\n",
    "    soup = BeautifulSoup(page.text, 'html.parser')\n",
    "    items = soup.find_all('a', attrs={'class':['c-product-box__img','c-promotion-box__image','js-url','js-product-item','js-product-url']})\n",
    "    for item in items:\n",
    "        text = ''\n",
    "        found = re.search(r'product_url\\\":\\\"\\/product\\/[a-z,A-Z,0-9,-]+',str(item))\n",
    "        if found is not None: \n",
    "            text += found.group(0)\n",
    "            text = re.sub(r'product_url\\\":\\\"\\/product\\/','',text)\n",
    "            database.execute(\"INSERT INTO products VALUES ('%s', 0)\"%text)\n",
    "            database.commit()"
   ]
  },
  {
   "cell_type": "code",
   "execution_count": null,
   "metadata": {},
   "outputs": [],
   "source": [
    "print('Connecting to database...')\n",
    "database = sqlite3.connect('list.db')\n",
    "cur = database.cursor()\n",
    "try:\n",
    "    cur.execute(\"\"\"CREATE TABLE products(\n",
    "        product TEXT,\n",
    "        done INTEGER\n",
    "    )\n",
    "    \"\"\")\n",
    "    database.commit()\n",
    "except:\n",
    "        print('connected.')\n",
    "print('Extracting list of products...')\n",
    "for i in range(1, 10):\n",
    "    url = 'https://www.digikala.com/search/category-notebook-netbook-ultrabook/?has_selling_stock=1&pageno={}&sortby=21'.format(i)\n",
    "    page = requests.get(url)\n",
    "    if page.status_code == 200: get_products(page, database)\n",
    "    else: print('Failed! url = {}'.format(url))"
   ]
  }
 ]
}